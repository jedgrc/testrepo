{
 "cells": [
  {
   "cell_type": "markdown",
   "id": "0eceea34-bc46-4757-a4ee-65180845b07b",
   "metadata": {},
   "source": [
    "# Data Science Tools and Ecosystem"
   ]
  },
  {
   "cell_type": "markdown",
   "id": "5638a36b-68d6-4a20-95ed-f7017de89832",
   "metadata": {},
   "source": [
    "## In this notebook, Data Science Tools and Ecosystem are summarized."
   ]
  },
  {
   "cell_type": "markdown",
   "id": "dd010d5d-1315-44e2-8fdd-072180683297",
   "metadata": {},
   "source": [
    "### Some of the popular languages that Data Scientists use are: \n",
    "\n",
    "1. R\n",
    "2. Python\n",
    "3. Julia"
   ]
  },
  {
   "cell_type": "markdown",
   "id": "44f547b1-4d0d-4713-804a-4468b8886999",
   "metadata": {},
   "source": [
    "### Some of the commonly used libraries used by Data Scientists include:\n",
    "\n",
    "1. pandas\n",
    "2. matplotlib\n",
    "3. numpy"
   ]
  },
  {
   "cell_type": "markdown",
   "id": "02796bee-b75e-4279-834c-f2994934062c",
   "metadata": {},
   "source": [
    "|Data Science Tools|\n",
    "--------------------\n",
    "|Jupyter Notebook|\n",
    "|Spyder|\n",
    "|Github|"
   ]
  },
  {
   "cell_type": "markdown",
   "id": "e316ae9f-58e4-4a0b-96ae-a850006166f7",
   "metadata": {},
   "source": [
    "### Below are a few examples of evaluating arithmetic expressions in Python"
   ]
  },
  {
   "cell_type": "code",
   "execution_count": 1,
   "id": "16c1632b-a993-4673-8184-b5c170dd9dca",
   "metadata": {
    "tags": []
   },
   "outputs": [
    {
     "data": {
      "text/plain": [
       "17"
      ]
     },
     "execution_count": 1,
     "metadata": {},
     "output_type": "execute_result"
    }
   ],
   "source": [
    "(3*4)+5\n",
    "# This is a simple arithmetic expression to multiply then add integers"
   ]
  },
  {
   "cell_type": "code",
   "execution_count": 2,
   "id": "dcf893fb-6401-4799-8100-d13ba3c0dd34",
   "metadata": {
    "tags": []
   },
   "outputs": [
    {
     "data": {
      "text/plain": [
       "3.3333333333333335"
      ]
     },
     "execution_count": 2,
     "metadata": {},
     "output_type": "execute_result"
    }
   ],
   "source": [
    "200/60\n",
    "# This will convert 200 minutes to hours by dividing by 60"
   ]
  },
  {
   "cell_type": "markdown",
   "id": "abad5fee-329c-4067-89de-dc6f8ce32e9f",
   "metadata": {
    "tags": []
   },
   "source": [
    "__Objectives:__\n",
    "# List of popular languages for Data Science \n",
    "* R\n",
    "* Python\n",
    "* Julia"
   ]
  },
  {
   "cell_type": "markdown",
   "id": "e14c23c1-0043-4deb-b58c-90c9046081d0",
   "metadata": {},
   "source": [
    "## Author\n",
    "Jedidiah Ella Garcia"
   ]
  },
  {
   "cell_type": "code",
   "execution_count": null,
   "id": "6fe26077-d3ae-412f-b090-ba7e1451efb0",
   "metadata": {},
   "outputs": [],
   "source": []
  }
 ],
 "metadata": {
  "kernelspec": {
   "display_name": "Python",
   "language": "python",
   "name": "conda-env-python-py"
  },
  "language_info": {
   "codemirror_mode": {
    "name": "ipython",
    "version": 3
   },
   "file_extension": ".py",
   "mimetype": "text/x-python",
   "name": "python",
   "nbconvert_exporter": "python",
   "pygments_lexer": "ipython3",
   "version": "3.7.12"
  }
 },
 "nbformat": 4,
 "nbformat_minor": 5
}
